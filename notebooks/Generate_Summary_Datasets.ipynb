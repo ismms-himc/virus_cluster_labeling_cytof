{
 "cells": [
  {
   "cell_type": "markdown",
   "metadata": {},
   "source": [
    "# Generate Summary Datasets\n",
    "I will average over all the small CSVs with the labeled and unlabeled datasets (e.g. pdc_1.csv from labeled) and generate two summary datasets: summary_labeled.tsv and summary_unlabeled.tsv. "
   ]
  },
  {
   "cell_type": "code",
   "execution_count": 22,
   "metadata": {
    "collapsed": true
   },
   "outputs": [],
   "source": [
    "import numpy as np\n",
    "import pandas as pd\n",
    "import glob\n",
    "from clustergrammer_widget import *\n",
    "net = Network(clustergrammer_widget)"
   ]
  },
  {
   "cell_type": "code",
   "execution_count": 34,
   "metadata": {
    "collapsed": false
   },
   "outputs": [
    {
     "name": "stdout",
     "output_type": "stream",
     "text": [
      "82\n"
     ]
    }
   ],
   "source": [
    "# df = pd.read_csv('../data_mats/labeled_data/b_cell_memory_1.csv', index_col=0)\n",
    "\n",
    "for inst_type in ['labeled_data']:\n",
    "    all_files = glob.glob('../data_mats/'+inst_type+'/*.csv')\n",
    "    \n",
    "    print(len(all_files))\n",
    "    \n",
    "    avg_list = []\n",
    "\n",
    "    for inst_file in all_files:\n",
    "\n",
    "        inst_df = pd.read_csv(inst_file, index_col=0)\n",
    "        \n",
    "        cols = inst_df.columns.tolist()\n",
    "        \n",
    "        keep_cols = cols[5:]\n",
    "        \n",
    "        inst_df = inst_df[keep_cols]\n",
    "        \n",
    "        series_avg = inst_df.mean(axis=0)\n",
    "        \n",
    "        avg_list.append(series_avg)\n",
    "    "
   ]
  },
  {
   "cell_type": "code",
   "execution_count": 36,
   "metadata": {
    "collapsed": false
   },
   "outputs": [],
   "source": [
    "inst_df = pd.concat(avg_list,  axis=1)"
   ]
  },
  {
   "cell_type": "code",
   "execution_count": 40,
   "metadata": {
    "collapsed": false
   },
   "outputs": [
    {
     "data": {
      "application/vnd.jupyter.widget-view+json": {
       "model_id": "12d7734ce6844a4aa731f5d3bb38cb00"
      }
     },
     "metadata": {},
     "output_type": "display_data"
    }
   ],
   "source": [
    "inst_df = inst_df.transpose()\n",
    "net.load_df(inst_df)\n",
    "net.cluster()\n",
    "net.widget()"
   ]
  },
  {
   "cell_type": "code",
   "execution_count": null,
   "metadata": {
    "collapsed": true
   },
   "outputs": [],
   "source": []
  },
  {
   "cell_type": "code",
   "execution_count": 9,
   "metadata": {
    "collapsed": false
   },
   "outputs": [
    {
     "data": {
      "text/plain": [
       "148"
      ]
     },
     "execution_count": 9,
     "metadata": {},
     "output_type": "execute_result"
    }
   ],
   "source": [
    "len(all_files)"
   ]
  },
  {
   "cell_type": "code",
   "execution_count": 10,
   "metadata": {
    "collapsed": true
   },
   "outputs": [],
   "source": [
    "# remove manual labels from csv list (unlabeled only)\n",
    "tmp = [x for x in all_files if not 'manual_labels' in x]"
   ]
  },
  {
   "cell_type": "code",
   "execution_count": 12,
   "metadata": {
    "collapsed": false
   },
   "outputs": [
    {
     "data": {
      "text/plain": [
       "147"
      ]
     },
     "execution_count": 12,
     "metadata": {},
     "output_type": "execute_result"
    }
   ],
   "source": [
    "len(tmp)"
   ]
  },
  {
   "cell_type": "code",
   "execution_count": null,
   "metadata": {
    "collapsed": true
   },
   "outputs": [],
   "source": []
  }
 ],
 "metadata": {
  "kernelspec": {
   "display_name": "Python 2",
   "language": "python",
   "name": "python2"
  },
  "language_info": {
   "codemirror_mode": {
    "name": "ipython",
    "version": 2
   },
   "file_extension": ".py",
   "mimetype": "text/x-python",
   "name": "python",
   "nbconvert_exporter": "python",
   "pygments_lexer": "ipython2",
   "version": "2.7.12"
  }
 },
 "nbformat": 4,
 "nbformat_minor": 2
}
