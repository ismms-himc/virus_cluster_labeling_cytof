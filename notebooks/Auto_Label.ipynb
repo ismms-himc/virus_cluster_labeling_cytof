{
 "cells": [
  {
   "cell_type": "markdown",
   "metadata": {
    "deletable": true,
    "editable": true
   },
   "source": [
    "# Auto Label\n",
    "This notebook will auto-label the unlabeled dataest based on similarity to the labeled dataset. I will start by generating a list of common measurements (columns) and also have a look at the two datasets stacked on each other and clustered. "
   ]
  },
  {
   "cell_type": "code",
   "execution_count": 66,
   "metadata": {
    "collapsed": true,
    "deletable": true,
    "editable": true
   },
   "outputs": [],
   "source": [
    "import numpy as np\n",
    "import pandas as pd\n",
    "from copy import deepcopy\n",
    "from clustergrammer_widget import *\n",
    "net = Network(clustergrammer_widget)"
   ]
  },
  {
   "cell_type": "code",
   "execution_count": 67,
   "metadata": {
    "collapsed": false,
    "deletable": true,
    "editable": true
   },
   "outputs": [],
   "source": [
    "import scipy\n",
    "spearmanr = scipy.stats.spearmanr"
   ]
  },
  {
   "cell_type": "markdown",
   "metadata": {
    "deletable": true,
    "editable": true
   },
   "source": [
    "###  Load Labeled and Unlabeled Data\n"
   ]
  },
  {
   "cell_type": "code",
   "execution_count": 68,
   "metadata": {
    "collapsed": true,
    "deletable": true,
    "editable": true
   },
   "outputs": [],
   "source": [
    "df_labeled = pd.read_csv('../data_mats/labeled_data.csv', index_col=0)\n",
    "df_unlabeled = pd.read_csv('../data_mats/unlabeled_data.csv', index_col=0)"
   ]
  },
  {
   "cell_type": "code",
   "execution_count": 69,
   "metadata": {
    "collapsed": false,
    "deletable": true,
    "editable": true
   },
   "outputs": [
    {
     "data": {
      "text/plain": [
       "(82, 37)"
      ]
     },
     "execution_count": 69,
     "metadata": {},
     "output_type": "execute_result"
    }
   ],
   "source": [
    "df_labeled.shape"
   ]
  },
  {
   "cell_type": "code",
   "execution_count": 70,
   "metadata": {
    "collapsed": false,
    "deletable": true,
    "editable": true
   },
   "outputs": [
    {
     "data": {
      "text/plain": [
       "(147, 41)"
      ]
     },
     "execution_count": 70,
     "metadata": {},
     "output_type": "execute_result"
    }
   ],
   "source": [
    "df_unlabeled.shape"
   ]
  },
  {
   "cell_type": "code",
   "execution_count": 71,
   "metadata": {
    "collapsed": true,
    "deletable": true,
    "editable": true
   },
   "outputs": [],
   "source": [
    "labeled_cols = df_labeled.columns.tolist()"
   ]
  },
  {
   "cell_type": "code",
   "execution_count": 72,
   "metadata": {
    "collapsed": true,
    "deletable": true,
    "editable": true
   },
   "outputs": [],
   "source": [
    "unlabeled_cols = df_unlabeled.columns.tolist()"
   ]
  },
  {
   "cell_type": "code",
   "execution_count": 73,
   "metadata": {
    "collapsed": false,
    "deletable": true,
    "editable": true
   },
   "outputs": [],
   "source": [
    "# find common measurements (intersection)\n",
    "common_cols = list(set(labeled_cols).intersection(unlabeled_cols))"
   ]
  },
  {
   "cell_type": "markdown",
   "metadata": {
    "deletable": true,
    "editable": true
   },
   "source": [
    "### Get Common Measurements (Columns)"
   ]
  },
  {
   "cell_type": "code",
   "execution_count": 74,
   "metadata": {
    "collapsed": false,
    "deletable": true,
    "editable": true
   },
   "outputs": [],
   "source": [
    "df_labeled_comm = df_labeled[common_cols]"
   ]
  },
  {
   "cell_type": "code",
   "execution_count": 75,
   "metadata": {
    "collapsed": false,
    "deletable": true,
    "editable": true
   },
   "outputs": [],
   "source": [
    "df_unlabeled_comm = df_unlabeled[common_cols]"
   ]
  },
  {
   "cell_type": "markdown",
   "metadata": {
    "deletable": true,
    "editable": true
   },
   "source": [
    "### Add row categories "
   ]
  },
  {
   "cell_type": "code",
   "execution_count": 76,
   "metadata": {
    "collapsed": false,
    "deletable": true,
    "editable": true
   },
   "outputs": [],
   "source": [
    "old_rows = df_labeled_comm.index.tolist()\n",
    "new_rows = []\n",
    "for inst_row in old_rows:\n",
    "    new_row = (inst_row, 'type: labeled')\n",
    "    new_rows.append(new_row)\n",
    "\n",
    "df_labeled_comm_cat = deepcopy(df_labeled_comm)\n",
    "df_labeled_comm_cat.index = new_rows"
   ]
  },
  {
   "cell_type": "code",
   "execution_count": 77,
   "metadata": {
    "collapsed": false,
    "deletable": true,
    "editable": true
   },
   "outputs": [],
   "source": [
    "old_rows = df_unlabeled_comm.index.tolist()\n",
    "new_rows = []\n",
    "for inst_row in old_rows:\n",
    "    new_row = (inst_row, 'type: unlabeled')\n",
    "    new_rows.append(new_row)\n",
    "    \n",
    "df_unlabeled_comm_cat = deepcopy(df_unlabeled_comm)\n",
    "df_unlabeled_comm_cat.index = new_rows"
   ]
  },
  {
   "cell_type": "markdown",
   "metadata": {
    "deletable": true,
    "editable": true
   },
   "source": [
    "### Visualize unlabeled and labeled clusters together"
   ]
  },
  {
   "cell_type": "code",
   "execution_count": 78,
   "metadata": {
    "collapsed": false,
    "deletable": true,
    "editable": true
   },
   "outputs": [],
   "source": [
    "df_merge = df_labeled_comm_cat.append(df_unlabeled_comm_cat)"
   ]
  },
  {
   "cell_type": "code",
   "execution_count": 79,
   "metadata": {
    "collapsed": false,
    "deletable": true,
    "editable": true
   },
   "outputs": [
    {
     "data": {
      "application/vnd.jupyter.widget-view+json": {
       "model_id": "ce40096bf3314dadbac6d8c17b7cb3c2"
      }
     },
     "metadata": {},
     "output_type": "display_data"
    }
   ],
   "source": [
    "net.load_df(df_merge)\n",
    "net.cluster(enrichrgram=False)\n",
    "net.widget()"
   ]
  },
  {
   "cell_type": "markdown",
   "metadata": {
    "deletable": true,
    "editable": true
   },
   "source": [
    "# Assign Labels\n",
    "Loop through df_unlabeled_comm and calculate correlation to each of the df_labeled_comm clusters."
   ]
  },
  {
   "cell_type": "code",
   "execution_count": 80,
   "metadata": {
    "collapsed": false,
    "deletable": true,
    "editable": true
   },
   "outputs": [],
   "source": [
    "unlabeled_groups = df_unlabeled_comm.index.tolist()\n",
    "labeled_groups = df_labeled_comm.index.tolist()"
   ]
  },
  {
   "cell_type": "code",
   "execution_count": 81,
   "metadata": {
    "collapsed": false,
    "deletable": true,
    "editable": true
   },
   "outputs": [],
   "source": [
    "tdf_unlabeled_comm = df_unlabeled_comm.transpose()\n",
    "tdf_labeled_comm = df_labeled_comm.transpose()"
   ]
  },
  {
   "cell_type": "markdown",
   "metadata": {
    "deletable": true,
    "editable": true
   },
   "source": [
    "### Save Correlations as Series and Pandas DF"
   ]
  },
  {
   "cell_type": "code",
   "execution_count": 110,
   "metadata": {
    "collapsed": false,
    "deletable": true,
    "editable": true
   },
   "outputs": [],
   "source": [
    "corr_list = []\n",
    "predict_group = {}\n",
    "for inst_unlabeled in unlabeled_groups:\n",
    "    \n",
    "    unlabeled_series = tdf_unlabeled_comm[inst_unlabeled]\n",
    "    \n",
    "    # index for series\n",
    "    inst_names = []\n",
    "    inst_corrs = []\n",
    "    \n",
    "    for inst_labeled in labeled_groups:\n",
    "        \n",
    "        inst_names.append(inst_labeled)\n",
    "        \n",
    "        labeled_series = tdf_labeled_comm[inst_labeled]\n",
    "    \n",
    "        # only keep correlation from the calculation\n",
    "        corr = spearmanr(unlabeled_series, labeled_series)[0]\n",
    "        \n",
    "        inst_corrs.append(corr)\n",
    "    \n",
    "    # make series, name is the unlabeled group\n",
    "    corr_series = pd.Series(name=inst_unlabeled, data=inst_corrs, index=inst_names)\n",
    "    \n",
    "    corr_list.append(corr_series)\n",
    "    \n",
    "    corr_sort = deepcopy(corr_series)\n",
    "    \n",
    "    corr_sort.sort_values(ascending=False, inplace=True)\n",
    "    \n",
    "    # get the predicted category from sorting the series\n",
    "    top_corr = corr_sort[0]\n",
    "    # remove number from cat type\n",
    "    name_list = corr_sort.index[0].split('_')[:-1]\n",
    "    predict_cat = '_'.join(name_list)\n",
    "    \n",
    "    # save predicted group as dictionary\n",
    "    predict_group[inst_unlabeled] = predict_cat"
   ]
  },
  {
   "cell_type": "markdown",
   "metadata": {
    "collapsed": false,
    "deletable": true,
    "editable": true
   },
   "source": [
    "# Transfer Labels to Unlabeled DF\n"
   ]
  },
  {
   "cell_type": "code",
   "execution_count": 113,
   "metadata": {
    "collapsed": false
   },
   "outputs": [],
   "source": [
    "inst_rows = df_unlabeled.index.tolist()\n",
    "new_rows = []\n",
    "for inst_row in inst_rows:\n",
    "    inst_group = predict_group[inst_row]\n",
    "    new_rows.append((inst_row, inst_group))"
   ]
  },
  {
   "cell_type": "code",
   "execution_count": 114,
   "metadata": {
    "collapsed": false
   },
   "outputs": [
    {
     "data": {
      "text/plain": [
       "[('b_cell_1', 'b_cell_naive'),\n",
       " ('b_cell_10', 'b_cell_naive'),\n",
       " ('b_cell_11', 'b_cell_naive'),\n",
       " ('b_cell_12', 'b_cell_transitional'),\n",
       " ('b_cell_13', 'b_cell_naive'),\n",
       " ('b_cell_14', 'b_cell_memory'),\n",
       " ('b_cell_15', 'b_cell_naive'),\n",
       " ('b_cell_16', 'b_cell_memory'),\n",
       " ('b_cell_17', 'b_cell_plasmablast'),\n",
       " ('b_cell_18', 'b_cell_memory'),\n",
       " ('b_cell_19', 'b_cell_naive'),\n",
       " ('b_cell_2', 'b_cell_memory'),\n",
       " ('b_cell_20', 'b_cell_memory'),\n",
       " ('b_cell_21', 'b_cell_transitional'),\n",
       " ('b_cell_3', 'undefined'),\n",
       " ('b_cell_4', 'b_cell_naive'),\n",
       " ('b_cell_5', 'b_cell_naive'),\n",
       " ('b_cell_6', 'b_cell_memory'),\n",
       " ('b_cell_7', 'b_cell_naive'),\n",
       " ('b_cell_8', 'undefined'),\n",
       " ('b_cell_9', 'undefined'),\n",
       " ('basophil_1', 'cd4_cd8_t_cell'),\n",
       " ('basophil_10', 'nkt_cell'),\n",
       " ('basophil_11', 'b_cell_naive'),\n",
       " ('basophil_12', 'pdc'),\n",
       " ('basophil_13', 'cd4_neg_cd8_neg_t_cell'),\n",
       " ('basophil_14', 'undefined'),\n",
       " ('basophil_15', 'cd8_t_cell_naive'),\n",
       " ('basophil_16', 'nkt_cell'),\n",
       " ('basophil_17', 'cd14_monocyte'),\n",
       " ('basophil_18', 'ilc'),\n",
       " ('basophil_19', 'nk_cell_cd56low_cd16hi'),\n",
       " ('basophil_2', 'undefined'),\n",
       " ('basophil_20', 'undefined'),\n",
       " ('basophil_21', 'cd4_t_cell_cm'),\n",
       " ('basophil_22', 'undefined'),\n",
       " ('basophil_23', 'basophil'),\n",
       " ('basophil_3', 'undefined'),\n",
       " ('basophil_4', 'cd16_monocyte'),\n",
       " ('basophil_5', 'undefined'),\n",
       " ('basophil_6', 'cd4_t_cell_cm'),\n",
       " ('basophil_7', 'cd4_cd8_t_cell'),\n",
       " ('basophil_8', 'undefined'),\n",
       " ('basophil_9', 'undefined'),\n",
       " ('granulocyte_1', 'cd14_monocyte'),\n",
       " ('granulocyte_10', 'cd14_monocyte'),\n",
       " ('granulocyte_2', 'nkt_cell'),\n",
       " ('granulocyte_3', 'b_cell_naive'),\n",
       " ('granulocyte_4', 'b_cell_naive'),\n",
       " ('granulocyte_5', 'nkt_cell'),\n",
       " ('granulocyte_6', 'nkt_cell'),\n",
       " ('granulocyte_7', 'cd14_monocyte'),\n",
       " ('granulocyte_8', 'cd14_monocyte'),\n",
       " ('granulocyte_9', 'undefined'),\n",
       " ('mdc_1', 'undefined'),\n",
       " ('mdc_10', 'cd4_neg_cd8_neg_t_cell'),\n",
       " ('mdc_11', 'cd16_monocyte'),\n",
       " ('mdc_12', 'mdc_cd141'),\n",
       " ('mdc_13', 'b_cell_memory'),\n",
       " ('mdc_14', 'mdc_other'),\n",
       " ('mdc_15', 'b_cell_plasmablast'),\n",
       " ('mdc_16', 'cd4_neg_cd8_neg_t_cell'),\n",
       " ('mdc_17', 'mdc_other'),\n",
       " ('mdc_18', 'mdc_cd1c'),\n",
       " ('mdc_19', 'mdc_cd1c'),\n",
       " ('mdc_2', 'undefined'),\n",
       " ('mdc_20', 'cd4_neg_cd8_neg_t_cell'),\n",
       " ('mdc_3', 'cd16_monocyte'),\n",
       " ('mdc_4', 'undefined'),\n",
       " ('mdc_5', 'mdc_other'),\n",
       " ('mdc_6', 'mdc_cd1c'),\n",
       " ('mdc_7', 'cd8_t_cell_cm'),\n",
       " ('mdc_8', 'undefined'),\n",
       " ('mdc_9', 'cd4_t_cell_cm'),\n",
       " ('monocyte_1', 'cd14_cd16_monocyte'),\n",
       " ('monocyte_10', 'cd14_cd16_monocyte'),\n",
       " ('monocyte_11', 'cd14_cd16_monocyte'),\n",
       " ('monocyte_12', 'cd14_monocyte'),\n",
       " ('monocyte_13', 'cd14_cd16_monocyte'),\n",
       " ('monocyte_14', 'cd14_cd16_monocyte'),\n",
       " ('monocyte_15', 'cd16_monocyte'),\n",
       " ('monocyte_16', 'cd16_monocyte'),\n",
       " ('monocyte_17', 'cd14_monocyte'),\n",
       " ('monocyte_2', 'cd14_monocyte'),\n",
       " ('monocyte_3', 'cd14_cd16_monocyte'),\n",
       " ('monocyte_4', 'cd14_monocyte'),\n",
       " ('monocyte_5', 'cd14_monocyte'),\n",
       " ('monocyte_6', 'cd14_monocyte'),\n",
       " ('monocyte_7', 'cd14_monocyte'),\n",
       " ('monocyte_8', 'cd14_monocyte'),\n",
       " ('monocyte_9', 'cd14_monocyte'),\n",
       " ('nk_cell_1', 'nk_cell_cd56low_cd16hi'),\n",
       " ('nk_cell_10', 'nk_cell_cd56hi_cd16low'),\n",
       " ('nk_cell_11', 'nk_cell_cd56low_cd16hi'),\n",
       " ('nk_cell_12', 'cd4_cd8_t_cell'),\n",
       " ('nk_cell_13', 'nkt_cell'),\n",
       " ('nk_cell_14', 'nk_cell_cd56low_cd16hi'),\n",
       " ('nk_cell_15', 'nk_cell_cd56low_cd16hi'),\n",
       " ('nk_cell_16', 'nk_cell_cd56low_cd16hi'),\n",
       " ('nk_cell_17', 'cd4_cd8_t_cell'),\n",
       " ('nk_cell_18', 'cd16_monocyte'),\n",
       " ('nk_cell_19', 'nk_cell_cd56low_cd16hi'),\n",
       " ('nk_cell_2', 'b_cell_memory'),\n",
       " ('nk_cell_20', 'nk_cell_cd56low_cd16hi'),\n",
       " ('nk_cell_21', 'ilc'),\n",
       " ('nk_cell_22', 'nk_cell_cd56low_cd16hi'),\n",
       " ('nk_cell_3', 'nk_cell_cd56low_cd16hi'),\n",
       " ('nk_cell_4', 'cd14_monocyte'),\n",
       " ('nk_cell_5', 'nk_cell_cd56low_cd16hi'),\n",
       " ('nk_cell_6', 'undefined'),\n",
       " ('nk_cell_7', 'nk_cell_cd56low_cd16hi'),\n",
       " ('nk_cell_8', 'undefined'),\n",
       " ('nk_cell_9', 'nk_cell_cd56low_cd16hi'),\n",
       " ('pdc_1', 'pdc'),\n",
       " ('pdc_2', 'pdc'),\n",
       " ('pdc_3', 'pdc'),\n",
       " ('pdc_4', 'pdc'),\n",
       " ('pdc_5', 'undefined'),\n",
       " ('pdc_6', 'pdc'),\n",
       " ('pdc_7', 'pdc'),\n",
       " ('pdc_8', 'cd16_monocyte'),\n",
       " ('t_cell_1', 'cd4_cd8_t_cell'),\n",
       " ('t_cell_10', 'cd4_t_cell_cm'),\n",
       " ('t_cell_11', 'nkt_cell'),\n",
       " ('t_cell_12', 'cd8_t_cell_naive'),\n",
       " ('t_cell_13', 'undefined'),\n",
       " ('t_cell_14', 'cd4_cd8_t_cell'),\n",
       " ('t_cell_15', 'cd4_t_cell_cm'),\n",
       " ('t_cell_16', 'cd4_t_cell_naive'),\n",
       " ('t_cell_17', 'cd4_cd8_t_cell'),\n",
       " ('t_cell_18', 'cd4_t_cell_cm'),\n",
       " ('t_cell_19', 'cd4_t_cell_naive'),\n",
       " ('t_cell_2', 'cd4_neg_cd8_neg_t_cell'),\n",
       " ('t_cell_20', 'cd4_cd8_t_cell'),\n",
       " ('t_cell_21', 'cd4_neg_cd8_neg_t_cell'),\n",
       " ('t_cell_22', 'cd4_t_cell_naive'),\n",
       " ('t_cell_23', 'cd4_neg_cd8_neg_t_cell'),\n",
       " ('t_cell_24', 'cd4_t_cell_cm'),\n",
       " ('t_cell_25', 'undefined'),\n",
       " ('t_cell_26', 'cd4_t_cell_treg'),\n",
       " ('t_cell_3', 'cd4_t_cell_naive'),\n",
       " ('t_cell_4', 'cd4_t_cell_cm'),\n",
       " ('t_cell_5', 'nkt_cell'),\n",
       " ('t_cell_6', 'nk_cell_cd56low_cd16hi'),\n",
       " ('t_cell_7', 'cd8_t_cell_cm'),\n",
       " ('t_cell_8', 'cd4_t_cell_cm'),\n",
       " ('t_cell_9', 'cd4_t_cell_cm')]"
      ]
     },
     "execution_count": 114,
     "metadata": {},
     "output_type": "execute_result"
    }
   ],
   "source": [
    "new_rows"
   ]
  },
  {
   "cell_type": "code",
   "execution_count": 83,
   "metadata": {
    "collapsed": true,
    "deletable": true,
    "editable": true
   },
   "outputs": [],
   "source": [
    "inst_df = pd.concat(corr_list,  axis=1).transpose()"
   ]
  },
  {
   "cell_type": "code",
   "execution_count": 84,
   "metadata": {
    "collapsed": false,
    "deletable": true,
    "editable": true
   },
   "outputs": [
    {
     "data": {
      "text/plain": [
       "(147, 82)"
      ]
     },
     "execution_count": 84,
     "metadata": {},
     "output_type": "execute_result"
    }
   ],
   "source": [
    "inst_df.shape"
   ]
  },
  {
   "cell_type": "code",
   "execution_count": 85,
   "metadata": {
    "collapsed": false,
    "deletable": true,
    "editable": true
   },
   "outputs": [
    {
     "data": {
      "application/vnd.jupyter.widget-view+json": {
       "model_id": "401b0cea5d104922974c12536827b351"
      }
     },
     "metadata": {},
     "output_type": "display_data"
    }
   ],
   "source": [
    "net.load_df(inst_df)\n",
    "net.cluster()\n",
    "net.widget()"
   ]
  },
  {
   "cell_type": "code",
   "execution_count": null,
   "metadata": {
    "collapsed": true,
    "deletable": true,
    "editable": true
   },
   "outputs": [],
   "source": []
  },
  {
   "cell_type": "code",
   "execution_count": 50,
   "metadata": {
    "collapsed": false,
    "deletable": true,
    "editable": true
   },
   "outputs": [
    {
     "data": {
      "text/plain": [
       "(82,)"
      ]
     },
     "execution_count": 50,
     "metadata": {},
     "output_type": "execute_result"
    }
   ],
   "source": [
    "corr_list[0].shape"
   ]
  },
  {
   "cell_type": "code",
   "execution_count": 32,
   "metadata": {
    "collapsed": true,
    "deletable": true,
    "editable": true
   },
   "outputs": [],
   "source": [
    "val = [0, 1, 2]\n",
    "names = ['zero', 'one', 'two']"
   ]
  },
  {
   "cell_type": "code",
   "execution_count": 21,
   "metadata": {
    "collapsed": false,
    "deletable": true,
    "editable": true
   },
   "outputs": [],
   "source": [
    "tmp_s = pd.Series(data=val, index=names)"
   ]
  },
  {
   "cell_type": "code",
   "execution_count": 29,
   "metadata": {
    "collapsed": false,
    "deletable": true,
    "editable": true
   },
   "outputs": [
    {
     "data": {
      "text/plain": [
       "two     2\n",
       "one     1\n",
       "zero    0\n",
       "dtype: int64"
      ]
     },
     "execution_count": 29,
     "metadata": {},
     "output_type": "execute_result"
    }
   ],
   "source": [
    "tmp_s"
   ]
  },
  {
   "cell_type": "code",
   "execution_count": 27,
   "metadata": {
    "collapsed": false,
    "deletable": true,
    "editable": true
   },
   "outputs": [],
   "source": [
    "tmp_s.sort_values(ascending=False, inplace=True)"
   ]
  },
  {
   "cell_type": "code",
   "execution_count": 28,
   "metadata": {
    "collapsed": false,
    "deletable": true,
    "editable": true
   },
   "outputs": [
    {
     "data": {
      "text/plain": [
       "two     2\n",
       "one     1\n",
       "zero    0\n",
       "dtype: int64"
      ]
     },
     "execution_count": 28,
     "metadata": {},
     "output_type": "execute_result"
    }
   ],
   "source": [
    "tmp_s"
   ]
  },
  {
   "cell_type": "code",
   "execution_count": null,
   "metadata": {
    "collapsed": true,
    "deletable": true,
    "editable": true
   },
   "outputs": [],
   "source": []
  }
 ],
 "metadata": {
  "kernelspec": {
   "display_name": "Python 2",
   "language": "python",
   "name": "python2"
  },
  "language_info": {
   "codemirror_mode": {
    "name": "ipython",
    "version": 2
   },
   "file_extension": ".py",
   "mimetype": "text/x-python",
   "name": "python",
   "nbconvert_exporter": "python",
   "pygments_lexer": "ipython2",
   "version": "2.7.12"
  }
 },
 "nbformat": 4,
 "nbformat_minor": 2
}
